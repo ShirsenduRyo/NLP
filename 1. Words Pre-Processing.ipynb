{
 "cells": [
  {
   "cell_type": "markdown",
   "id": "4f22b4f5",
   "metadata": {},
   "source": [
    "# 1. Set Up"
   ]
  },
  {
   "cell_type": "code",
   "execution_count": 34,
   "id": "e0d6643a",
   "metadata": {},
   "outputs": [],
   "source": [
    "import pandas as pd\n",
    "import numpy as np"
   ]
  },
  {
   "cell_type": "code",
   "execution_count": 36,
   "id": "70fbb48d",
   "metadata": {},
   "outputs": [],
   "source": [
    "import matplotlib.pyplot as plt            # library for visualization"
   ]
  },
  {
   "cell_type": "code",
   "execution_count": 35,
   "id": "4c92095a",
   "metadata": {},
   "outputs": [],
   "source": [
    "import random                              # pseudo-random number generator"
   ]
  },
  {
   "cell_type": "code",
   "execution_count": 1,
   "id": "9c6a0fd9",
   "metadata": {},
   "outputs": [],
   "source": [
    "import nltk                                # Python library for NLP\n",
    "from nltk.corpus import twitter_samples    # sample Twitter dataset from NLTK"
   ]
  },
  {
   "cell_type": "markdown",
   "id": "f7ccbedf",
   "metadata": {},
   "source": [
    "# 2.The Data"
   ]
  },
  {
   "cell_type": "code",
   "execution_count": 2,
   "id": "5c140b36",
   "metadata": {},
   "outputs": [],
   "source": [
    "# downloads sample twitter dataset.\n",
    "#nltk.download('twitter_samples')"
   ]
  },
  {
   "cell_type": "code",
   "execution_count": 3,
   "id": "ab24efe9",
   "metadata": {},
   "outputs": [],
   "source": [
    "# select the set of positive and negative tweets\n",
    "all_positive_tweets = twitter_samples.strings('positive_tweets.json')\n",
    "all_negative_tweets = twitter_samples.strings('negative_tweets.json')"
   ]
  },
  {
   "cell_type": "markdown",
   "id": "988c5317",
   "metadata": {},
   "source": [
    "## 2.1 Insights"
   ]
  },
  {
   "cell_type": "code",
   "execution_count": 4,
   "id": "50c0e6c1",
   "metadata": {},
   "outputs": [
    {
     "name": "stdout",
     "output_type": "stream",
     "text": [
      "Number of positive tweets:  5000\n",
      "Number of negative tweets:  5000\n",
      "\n",
      "The type of all_positive_tweets is:  <class 'list'>\n",
      "The type of a tweet entry is:  <class 'str'>\n"
     ]
    }
   ],
   "source": [
    "print('Number of positive tweets: ', len(all_positive_tweets))\n",
    "print('Number of negative tweets: ', len(all_negative_tweets))\n",
    "\n",
    "print('\\nThe type of all_positive_tweets is: ', type(all_positive_tweets))\n",
    "print('The type of a tweet entry is: ', type(all_negative_tweets[0]))"
   ]
  },
  {
   "cell_type": "code",
   "execution_count": 5,
   "id": "ff494d0a",
   "metadata": {},
   "outputs": [
    {
     "name": "stdout",
     "output_type": "stream",
     "text": [
      "Example :  hopeless for tmr :(\n"
     ]
    }
   ],
   "source": [
    "print(\"Example : \", all_negative_tweets[0])"
   ]
  },
  {
   "cell_type": "code",
   "execution_count": 6,
   "id": "6102afdb",
   "metadata": {},
   "outputs": [
    {
     "data": {
      "image/png": "[encoded data removed]",
      "text/plain": [
       "<Figure size 500x500 with 1 Axes>"
      ]
     },
     "metadata": {},
     "output_type": "display_data"
    }
   ],
   "source": [
    "# Declare a figure with a custom size\n",
    "fig = plt.figure(figsize=(5, 5))\n",
    "\n",
    "# labels for the two classes\n",
    "labels = 'Positives', 'Negative'\n",
    "\n",
    "# Sizes for each slide\n",
    "sizes = [len(all_positive_tweets), len(all_negative_tweets)] \n",
    "\n",
    "# Declare pie chart, where the slices will be ordered and plotted counter-clockwise:\n",
    "plt.pie(sizes, labels=labels, autopct='%1.1f%%',\n",
    "        shadow=True, startangle=90)\n",
    "\n",
    "# Equal aspect ratio ensures that pie is drawn as a circle.\n",
    "plt.axis('equal')  \n",
    "\n",
    "# Display the chart\n",
    "plt.show()"
   ]
  },
  {
   "cell_type": "code",
   "execution_count": 7,
   "id": "101c520d",
   "metadata": {},
   "outputs": [
    {
     "name": "stdout",
     "output_type": "stream",
     "text": [
      "\u001b[92m]#FollowFriday @France_Inte @PKuchly57 @Milipol_Paris for being top engaged members in my community this week :)\n",
      "\u001b[91m]hopeless for tmr :(\n"
     ]
    }
   ],
   "source": [
    "# Look at Raw Texts\n",
    "# Positive in Gree, negative in Red\n",
    "\n",
    "print('\\033[92m]' + all_positive_tweets[0])\n",
    "\n",
    "print('\\033[91m]' + all_negative_tweets[0])"
   ]
  },
  {
   "cell_type": "markdown",
   "id": "348b7629",
   "metadata": {},
   "source": [
    "# 3. Processing The Data"
   ]
  },
  {
   "cell_type": "code",
   "execution_count": 8,
   "id": "f2dfa776",
   "metadata": {},
   "outputs": [],
   "source": [
    "# Download Stopwords\n",
    "#nltk.download('stopwords')"
   ]
  },
  {
   "cell_type": "code",
   "execution_count": 9,
   "id": "97153d52",
   "metadata": {},
   "outputs": [],
   "source": [
    "import re                                  # library for regular expression operations\n",
    "import string                              # for string operations\n",
    "\n",
    "from nltk.corpus import stopwords          # module for stop words that come with NLTK\n",
    "from nltk.stem import PorterStemmer        # module for stemming\n",
    "from nltk.tokenize import TweetTokenizer   # module for tokenizing strings"
   ]
  },
  {
   "cell_type": "code",
   "execution_count": 10,
   "id": "798f2b21",
   "metadata": {},
   "outputs": [],
   "source": [
    "tweet =  \"My beautiful sunflowers on a sunny Friday morning off :) \\\n",
    "#sunflowers #favourites #happy #Friday off… https://t.co/3tfYom0N1i\""
   ]
  },
  {
   "cell_type": "code",
   "execution_count": 11,
   "id": "ce835f6b",
   "metadata": {},
   "outputs": [
    {
     "data": {
      "text/plain": [
       "'My beautiful sunflowers on a sunny Friday morning off :) #sunflowers #favourites #happy #Friday off… https://t.co/3tfYom0N1i'"
      ]
     },
     "execution_count": 11,
     "metadata": {},
     "output_type": "execute_result"
    }
   ],
   "source": [
    "tweet"
   ]
  },
  {
   "cell_type": "markdown",
   "id": "c2bce407",
   "metadata": {},
   "source": [
    "## 3.1 Basic Cleaning"
   ]
  },
  {
   "cell_type": "code",
   "execution_count": 19,
   "id": "adc4b28d",
   "metadata": {},
   "outputs": [
    {
     "name": "stdout",
     "output_type": "stream",
     "text": [
      "\u001b[92mMy beautiful sunflowers on a sunny Friday morning off :) #sunflowers #favourites #happy #Friday off… https://t.co/3tfYom0N1i\n",
      "\u001b[94m\n",
      "My beautiful sunflowers on a sunny Friday morning off :) #sunflowers #favourites #happy #Friday off… https://t.co/3tfYom0N1i\n",
      "\n",
      " My beautiful sunflowers on a sunny Friday morning off :) #sunflowers #favourites #happy #Friday off… \n",
      "\n",
      " My beautiful sunflowers on a sunny Friday morning off :) sunflowers favourites happy Friday off… \n"
     ]
    }
   ],
   "source": [
    "print('\\033[92m' + tweet)\n",
    "print('\\033[94m')\n",
    "# Remove Old Style Retweet text \"RT, Retweet\"\n",
    "temp_tweet = re.sub(r'^RT[\\s]+', '', tweet)\n",
    "print(temp_tweet)\n",
    "\n",
    "#Remove Hyperlinks\n",
    "temp_tweet = re.sub(r'https?://[^\\s\\n\\r]+', '', temp_tweet)\n",
    "print(\"\\n\", temp_tweet)\n",
    "\n",
    "#Remove hashtags\n",
    "final_tweet  = re.sub(r'#','',temp_tweet)\n",
    "print('\\n',final_tweet)"
   ]
  },
  {
   "cell_type": "markdown",
   "id": "d8f9b9bb",
   "metadata": {},
   "source": [
    "## 3.2 Tokenizing"
   ]
  },
  {
   "cell_type": "code",
   "execution_count": 20,
   "id": "ea599383",
   "metadata": {},
   "outputs": [
    {
     "name": "stdout",
     "output_type": "stream",
     "text": [
      "\u001b[92mMy beautiful sunflowers on a sunny Friday morning off :) sunflowers favourites happy Friday off… \n",
      "\u001b[94m\n",
      "\n",
      " ['my', 'beautiful', 'sunflowers', 'on', 'a', 'sunny', 'friday', 'morning', 'off', ':)', 'sunflowers', 'favourites', 'happy', 'friday', 'off', '…']\n"
     ]
    }
   ],
   "source": [
    "print('\\033[92m' + final_tweet)\n",
    "print('\\033[94m')\n",
    "\n",
    "#Instantiate tokenizer\n",
    "tokenizer = TweetTokenizer(preserve_case=False, strip_handles=True, reduce_len = True)\n",
    "\n",
    "#tokenize tweets\n",
    "tweet_tokens = tokenizer.tokenize(final_tweet)\n",
    "print('\\n', tweet_tokens)"
   ]
  },
  {
   "cell_type": "markdown",
   "id": "11860f25",
   "metadata": {},
   "source": [
    "# 3.3 Removing Stopwards & Punctuations"
   ]
  },
  {
   "cell_type": "code",
   "execution_count": 21,
   "id": "d003f1cf",
   "metadata": {},
   "outputs": [
    {
     "name": "stdout",
     "output_type": "stream",
     "text": [
      "StopWords:\n",
      "['i', 'me', 'my', 'myself', 'we']\n",
      "Total Stopwords :  179\n",
      "\n",
      "Punctuations:\n",
      "!\"#$%\n",
      "Total Punctuations :  32\n"
     ]
    }
   ],
   "source": [
    "stopwords_eng = stopwords.words('english')\n",
    "\n",
    "print(\"StopWords:\")\n",
    "print(stopwords_eng[:5])\n",
    "print(\"Total Stopwords : \", len(stopwords_eng))\n",
    "\n",
    "print(\"\\nPunctuations:\")\n",
    "print(string.punctuation[:5])\n",
    "print(\"Total Punctuations : \", len(string.punctuation))"
   ]
  },
  {
   "cell_type": "markdown",
   "id": "06d70f6b",
   "metadata": {},
   "source": [
    "## 3.4 Clean Tokenized Tweets"
   ]
  },
  {
   "cell_type": "code",
   "execution_count": 22,
   "id": "9b69b10a",
   "metadata": {},
   "outputs": [
    {
     "name": "stdout",
     "output_type": "stream",
     "text": [
      "\u001b[92m\n",
      "['my', 'beautiful', 'sunflowers', 'on', 'a', 'sunny', 'friday', 'morning', 'off', ':)', 'sunflowers', 'favourites', 'happy', 'friday', 'off', '…']\n",
      "\u001b[94m\n",
      " Clean tokenized Tweets :\n",
      "['beautiful', 'sunflowers', 'sunny', 'friday', 'morning', ':)', 'sunflowers', 'favourites', 'happy', 'friday', '…']\n"
     ]
    }
   ],
   "source": [
    "print('\\033[92m')\n",
    "print(tweet_tokens)\n",
    "print('\\033[94m')\n",
    "\n",
    "tweet_clean = list()\n",
    "for word in tweet_tokens:\n",
    "    if (word not in stopwords_eng) and (word not in string.punctuation):\n",
    "        tweet_clean.append(word)\n",
    "        \n",
    "print(\" Clean tokenized Tweets :\")\n",
    "print(tweet_clean)"
   ]
  },
  {
   "cell_type": "markdown",
   "id": "5dd65c0b",
   "metadata": {},
   "source": [
    "# 3.5 Stemming"
   ]
  },
  {
   "cell_type": "code",
   "execution_count": 23,
   "id": "f1a4ed1f",
   "metadata": {},
   "outputs": [
    {
     "name": "stdout",
     "output_type": "stream",
     "text": [
      "\u001b[92m\n",
      "['beautiful', 'sunflowers', 'sunny', 'friday', 'morning', ':)', 'sunflowers', 'favourites', 'happy', 'friday', '…']\n",
      "\u001b[94m\n",
      "Stemmed Words :\n",
      "['beauti', 'sunflow', 'sunni', 'friday', 'morn', ':)', 'sunflow', 'favourit', 'happi', 'friday', '…']\n"
     ]
    }
   ],
   "source": [
    "print('\\033[92m')\n",
    "print(tweet_clean)\n",
    "print('\\033[94m')\n",
    "\n",
    "#Initiate Stemmer\n",
    "stemmer = PorterStemmer()\n",
    "\n",
    "#List to store the stems\n",
    "tweet_stem = []\n",
    "\n",
    "for word in tweet_clean:\n",
    "    stem_word = stemmer.stem(word)\n",
    "    tweet_stem.append(stem_word)\n",
    "    \n",
    "print(\"Stemmed Words :\")\n",
    "print(tweet_stem)"
   ]
  },
  {
   "cell_type": "markdown",
   "id": "5d9eedd7",
   "metadata": {},
   "source": [
    "# 4. Check The process_tweet() function "
   ]
  },
  {
   "cell_type": "code",
   "execution_count": 25,
   "id": "96b898a9",
   "metadata": {},
   "outputs": [],
   "source": [
    "def process_tweet(raw_tweet):\n",
    "    #Remove Raw Tweets\n",
    "    temp_tweet = re.sub(r'^RT[\\s]+', '', raw_tweet)\n",
    "    #Remove Hyperlinks\n",
    "    temp_tweet = re.sub(r'https?://[^\\s\\n\\r]+', '', temp_tweet)\n",
    "    #Remove hashtags\n",
    "    temp_tweet  = re.sub(r'#','',temp_tweet)\n",
    "\n",
    "    #tokenize tweets\n",
    "    tokenizer = TweetTokenizer(preserve_case=False, strip_handles=True, reduce_len = True)\n",
    "    temp_tweet = tokenizer.tokenize(temp_tweet)\n",
    "    \n",
    "    #Getting the stopwords\n",
    "    stopwords_eng = stopwords.words('english')\n",
    "    \n",
    "    #Clean stopwards & Punctuations\n",
    "    tweet_clean = list()\n",
    "    for word in temp_tweet:\n",
    "        if (word not in stopwords_eng) and (word not in string.punctuation):\n",
    "            tweet_clean.append(word)\n",
    "            \n",
    "    #Stemming\n",
    "    #Initiate Stemmer\n",
    "    stemmer = PorterStemmer()\n",
    "\n",
    "    #List to store the stems\n",
    "    tweet_stem = []\n",
    "\n",
    "    for word in tweet_clean:\n",
    "        stem_word = stemmer.stem(word)\n",
    "        tweet_stem.append(stem_word)\n",
    "    \n",
    "    return tweet_stem"
   ]
  },
  {
   "cell_type": "code",
   "execution_count": 30,
   "id": "2f3ea1e2",
   "metadata": {},
   "outputs": [
    {
     "name": "stdout",
     "output_type": "stream",
     "text": [
      "\u001b[92mMy beautiful sunflowers on a sunny Friday morning off :) #sunflowers #favourites #happy #Friday off… https://t.co/3tfYom0N1i\n",
      "\u001b[94m\n",
      "['beauti', 'sunflow', 'sunni', 'friday', 'morn', ':)', 'sunflow', 'favourit', 'happi', 'friday', '…']\n"
     ]
    }
   ],
   "source": [
    "print('\\033[92m' + tweet)\n",
    "tweet_stem = process_tweet(tweet)\n",
    "print('\\033[94m')\n",
    "print(tweet_stem)"
   ]
  },
  {
   "cell_type": "markdown",
   "id": "1598c7f0",
   "metadata": {},
   "source": [
    "# 5. Class Frequency"
   ]
  },
  {
   "cell_type": "code",
   "execution_count": 59,
   "id": "a219a56d",
   "metadata": {},
   "outputs": [],
   "source": [
    "def class_frequency(tweets, ys):\n",
    "    \"\"\"\n",
    "    Input:\n",
    "        tweets: list, list of tweets\n",
    "        ys: list, respective class of the tweets\n",
    "    \"\"\"\n",
    "    #To iterate over zip\n",
    "    if type(ys) == list:\n",
    "        yslist = ys\n",
    "    else:\n",
    "        yslist = np.squeeze(ys).tolist()\n",
    "    \n",
    "    freqs = {}\n",
    "    for tweet, ys in zip(tweets, ys):\n",
    "        for word in process_tweet(tweet):\n",
    "            pair = (word, ys)\n",
    "            freqs[pair] = freqs.get(pair, 0) + 1\n",
    "            \n",
    "    return freqs\n",
    "    \n",
    "    "
   ]
  },
  {
   "cell_type": "code",
   "execution_count": 60,
   "id": "85ad28ec",
   "metadata": {},
   "outputs": [
    {
     "data": {
      "text/plain": [
       "{('beauti', 0): 1,\n",
       " ('sunflow', 0): 2,\n",
       " ('sunni', 0): 1,\n",
       " ('friday', 0): 2,\n",
       " ('morn', 0): 1,\n",
       " (':)', 0): 1,\n",
       " ('favourit', 0): 1,\n",
       " ('happi', 0): 1,\n",
       " ('…', 0): 1}"
      ]
     },
     "execution_count": 60,
     "metadata": {},
     "output_type": "execute_result"
    }
   ],
   "source": [
    "class_frequency([tweet],[0])"
   ]
  }
 ],
 "metadata": {
  "kernelspec": {
   "display_name": "Python 3 (ipykernel)",
   "language": "python",
   "name": "python3"
  },
  "language_info": {
   "codemirror_mode": {
    "name": "ipython",
    "version": 3
   },
   "file_extension": ".py",
   "mimetype": "text/x-python",
   "name": "python",
   "nbconvert_exporter": "python",
   "pygments_lexer": "ipython3",
   "version": "3.9.13"
  }
 },
 "nbformat": 4,
 "nbformat_minor": 5
}
